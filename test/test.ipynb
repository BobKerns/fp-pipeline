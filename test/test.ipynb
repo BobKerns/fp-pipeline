{
 "cells": [
  {
   "cell_type": "code",
   "execution_count": 1,
   "metadata": {},
   "outputs": [],
   "source": [
    "from dataclasses import dataclass, field\n",
    "import sys, os\n",
    "sys.path.insert(1,os.path.abspath('../src'))"
   ]
  },
  {
   "attachments": {},
   "cell_type": "markdown",
   "metadata": {},
   "source": [
    "Import our code under test."
   ]
  },
  {
   "cell_type": "code",
   "execution_count": 2,
   "metadata": {},
   "outputs": [],
   "source": [
    "from fpipeline import pipeline, stepfn, conditionfn, variables, if_, not_, and_, or_, Variable, Attribute, VariableContext"
   ]
  },
  {
   "attachments": {},
   "cell_type": "markdown",
   "metadata": {},
   "source": [
    "Load our Test framework\n",
    "    "
   ]
  },
  {
   "cell_type": "code",
   "execution_count": 3,
   "metadata": {
    "tags": [
     "hide-input"
    ]
   },
   "outputs": [],
   "source": [
    "from tester import Test, set_test_reporter\n",
    "\n",
    "from notebook_reporter import NotebookTestReporter\n",
    "\n",
    "REPORTER = NotebookTestReporter()\n",
    "\n",
    "set_test_reporter(REPORTER)"
   ]
  },
  {
   "cell_type": "markdown",
   "metadata": {},
   "source": [
    "Test our Test framework"
   ]
  },
  {
   "cell_type": "code",
   "execution_count": 4,
   "metadata": {
    "tags": [
     "hide-input"
    ]
   },
   "outputs": [
    {
     "data": {
      "text/html": [
       "<span style='color:green'>✅ Test Test: OK</span>"
      ]
     },
     "metadata": {},
     "output_type": "display_data"
    }
   ],
   "source": [
    "Test(\"Test Test\", None).equals(None)"
   ]
  },
  {
   "cell_type": "code",
   "execution_count": 5,
   "metadata": {},
   "outputs": [
    {
     "data": {
      "text/html": [
       "<span style='color:green'>✅ Test Negate Test: OK</span>"
      ]
     },
     "metadata": {},
     "output_type": "display_data"
    }
   ],
   "source": [
    "Test(\"Test Negate Test\", None).negate.equals(False)"
   ]
  },
  {
   "attachments": {},
   "cell_type": "markdown",
   "metadata": {},
   "source": [
    "#### Test Data Setup"
   ]
  },
  {
   "attachments": {},
   "cell_type": "markdown",
   "metadata": {},
   "source": [
    "Our test setup consists of a context class `ctx`, a tracing step function `tstep`, and a predicte `has_value`\n",
    "\n",
    "Executing a `tstep` adds the arguments to a list in `ctx.trace`. This allows us to verify that the step was called, and that the arguments were properly passed.\n",
    "\n",
    "The `has_value` condition function compares the valuie in `ctx.value`, returning `True` if it equals\n",
    "the supplied value.\n",
    "\n",
    "The `get_trace` function returns the `ctx.trace` list; it can be used in `.apply` to extract it for comparison.\n",
    "\n",
    "The `ok` step function just returns `\"OK\"`.\n",
    "\n",
    "The `fail` step function just returns `\"Failed\"`\n",
    "\n",
    "The `true` condition function returns `True`.\n",
    "\n",
    "The `false` condition function returns `False`."
   ]
  },
  {
   "cell_type": "code",
   "execution_count": 6,
   "metadata": {},
   "outputs": [],
   "source": [
    "@dataclass\n",
    "class ctx:\n",
    "    value: any = None\n",
    "    trace: list[tuple] = field(default_factory=list)"
   ]
  },
  {
   "cell_type": "code",
   "execution_count": 7,
   "metadata": {},
   "outputs": [],
   "source": [
    "@stepfn\n",
    "def tstep(data: ctx, *args, **kwargs):\n",
    "    d = (*args, {**kwargs})\n",
    "    data.trace.append(d)\n",
    "    return data\n",
    "\n",
    "def get_trace(data: ctx):\n",
    "    return data.trace\n",
    "\n",
    "@stepfn\n",
    "def ok(_: ctx):\n",
    "    return 'OK'\n",
    "\n",
    "@stepfn\n",
    "def fail(_: ctx):\n",
    "    return \"Failed\""
   ]
  },
  {
   "cell_type": "code",
   "execution_count": 8,
   "metadata": {},
   "outputs": [],
   "source": [
    "@conditionfn\n",
    "def has_value(data: ctx, value):\n",
    "    return data.value == value\n",
    "\n",
    "@conditionfn\n",
    "def true(_: ctx):\n",
    "    return True\n",
    "\n",
    "@conditionfn\n",
    "def false(_: ctx):\n",
    "    return False"
   ]
  },
  {
   "attachments": {},
   "cell_type": "markdown",
   "metadata": {},
   "source": [
    "#### Test Cases"
   ]
  },
  {
   "cell_type": "code",
   "execution_count": 9,
   "metadata": {},
   "outputs": [
    {
     "data": {
      "text/html": [
       "<span style='color:green'>✅ @stepfn step takes a single argument: OK</span>"
      ]
     },
     "metadata": {},
     "output_type": "display_data"
    }
   ],
   "source": [
    "Test(\"@stepfn step takes a single argument\",\n",
    "    tstep(7, 8).__code__.co_argcount\n",
    ").equals(1)"
   ]
  },
  {
   "cell_type": "code",
   "execution_count": 10,
   "metadata": {},
   "outputs": [
    {
     "data": {
      "text/html": [
       "<span style='color:green'>✅ @conditionfn condition takes a single argument: OK</span>"
      ]
     },
     "metadata": {},
     "output_type": "display_data"
    }
   ],
   "source": [
    "Test(\"@conditionfn condition takes a single argument\",\n",
    "    has_value(7, 8).__code__.co_argcount\n",
    ").equals(1)"
   ]
  },
  {
   "cell_type": "code",
   "execution_count": 11,
   "metadata": {},
   "outputs": [
    {
     "data": {
      "text/html": [
       "<span style='color:green'>✅ @stepfn capture args: OK</span>"
      ]
     },
     "metadata": {},
     "output_type": "display_data"
    }
   ],
   "source": [
    "Test(\"@stepfn capture args\",\n",
    "    tstep(7, 5)(ctx()).trace\n",
    ").equals([(7, 5, {})])"
   ]
  },
  {
   "cell_type": "code",
   "execution_count": 12,
   "metadata": {},
   "outputs": [
    {
     "data": {
      "text/html": [
       "<span style='color:green'>✅ @conditionfn capture args (true): OK</span>"
      ]
     },
     "metadata": {},
     "output_type": "display_data"
    }
   ],
   "source": [
    "Test(\"@conditionfn capture args (true)\",\n",
    "    has_value(7)\n",
    ").apply(ctx(7)).is_true()"
   ]
  },
  {
   "cell_type": "code",
   "execution_count": 13,
   "metadata": {},
   "outputs": [
    {
     "data": {
      "text/html": [
       "<span style='color:green'>✅ @conditionfn capture args (false): OK</span>"
      ]
     },
     "metadata": {},
     "output_type": "display_data"
    }
   ],
   "source": [
    "Test(\"@conditionfn capture args (false)\",\n",
    "    has_value(7)\n",
    ").apply(ctx()).is_false()"
   ]
  },
  {
   "cell_type": "code",
   "execution_count": 14,
   "metadata": {},
   "outputs": [
    {
     "data": {
      "text/html": [
       "<span style='color:green'>✅ Simple pipeline: OK</span>"
      ]
     },
     "metadata": {},
     "output_type": "display_data"
    }
   ],
   "source": [
    "Test(\"Simple pipeline\",\n",
    "    pipeline(\n",
    "        tstep(7),\n",
    "        tstep(78)\n",
    "        )\n",
    " ).apply(ctx()).call(get_trace).equals([\n",
    "    (7, {}),\n",
    "    (78, {})\n",
    "    ])"
   ]
  },
  {
   "attachments": {},
   "cell_type": "markdown",
   "metadata": {},
   "source": [
    "#### Conditional Tests"
   ]
  },
  {
   "cell_type": "code",
   "execution_count": 15,
   "metadata": {},
   "outputs": [
    {
     "data": {
      "text/html": [
       "<span style='color:green'>✅ if_ True: OK</span>"
      ]
     },
     "metadata": {},
     "output_type": "display_data"
    }
   ],
   "source": [
    "Test(\"if_ True\",\n",
    "    if_(\n",
    "        true(),\n",
    "        ok()\n",
    "        )\n",
    ").apply(ctx()).equals('OK')"
   ]
  },
  {
   "cell_type": "code",
   "execution_count": 16,
   "metadata": {},
   "outputs": [
    {
     "data": {
      "text/html": [
       "<span style='color:green'>✅ if_ False: OK</span>"
      ]
     },
     "metadata": {},
     "output_type": "display_data"
    }
   ],
   "source": [
    "Test(\"if_ False\",\n",
    "     if_(\n",
    "        false(),\n",
    "        ok()\n",
    "     )\n",
    ").apply(ctx()).equals(None)\n"
   ]
  },
  {
   "cell_type": "code",
   "execution_count": 17,
   "metadata": {},
   "outputs": [
    {
     "data": {
      "text/html": [
       "<span style='color:green'>✅ if_ True else: OK</span>"
      ]
     },
     "metadata": {},
     "output_type": "display_data"
    }
   ],
   "source": [
    "Test(\"if_ True else\",\n",
    "    if_(\n",
    "        true(),\n",
    "        ok(),\n",
    "        fail()\n",
    "    )\n",
    ").apply(ctx(42)).equals('OK')"
   ]
  },
  {
   "cell_type": "code",
   "execution_count": 18,
   "metadata": {},
   "outputs": [
    {
     "data": {
      "text/html": [
       "<span style='color:green'>✅ if_ False else: OK</span>"
      ]
     },
     "metadata": {},
     "output_type": "display_data"
    }
   ],
   "source": [
    "Test(\"if_ False else\",\n",
    "     if_(\n",
    "         false(),\n",
    "         fail(),\n",
    "         ok()\n",
    "     )\n",
    "     ).apply(ctx()).equals('OK')\n"
   ]
  },
  {
   "cell_type": "code",
   "execution_count": 19,
   "metadata": {},
   "outputs": [
    {
     "data": {
      "text/html": [
       "<span style='color:green'>✅ not_ True: OK</span>"
      ]
     },
     "metadata": {},
     "output_type": "display_data"
    }
   ],
   "source": [
    "Test(\"not_ True\",\n",
    "    not_(true())\n",
    ").apply(ctx()).equals(False)"
   ]
  },
  {
   "cell_type": "code",
   "execution_count": 20,
   "metadata": {},
   "outputs": [
    {
     "data": {
      "text/html": [
       "<span style='color:green'>✅ not_ False: OK</span>"
      ]
     },
     "metadata": {},
     "output_type": "display_data"
    }
   ],
   "source": [
    "Test(\"not_ False\",\n",
    "     not_(false())\n",
    "     ).apply(ctx()).equals(True)"
   ]
  },
  {
   "cell_type": "code",
   "execution_count": 21,
   "metadata": {},
   "outputs": [
    {
     "data": {
      "text/html": [
       "<span style='color:green'>✅ or_ 0: OK</span>"
      ]
     },
     "metadata": {},
     "output_type": "display_data"
    }
   ],
   "source": [
    "Test(\"or_ 0\",\n",
    "or_()\n",
    ").apply(ctx()).equals(False)"
   ]
  },
  {
   "cell_type": "code",
   "execution_count": 22,
   "metadata": {},
   "outputs": [
    {
     "data": {
      "text/html": [
       "<span style='color:green'>✅ or_ T: OK</span>"
      ]
     },
     "metadata": {},
     "output_type": "display_data"
    }
   ],
   "source": [
    "Test(\"or_ T\",\n",
    "     or_(true())\n",
    "     ).apply(ctx()).equals(True)\n"
   ]
  },
  {
   "cell_type": "code",
   "execution_count": 23,
   "metadata": {},
   "outputs": [
    {
     "data": {
      "text/html": [
       "<span style='color:green'>✅ or_ F: OK</span>"
      ]
     },
     "metadata": {},
     "output_type": "display_data"
    }
   ],
   "source": [
    "Test(\"or_ F\",\n",
    "or_(false())\n",
    ").apply(ctx()).equals(False)"
   ]
  },
  {
   "cell_type": "code",
   "execution_count": 24,
   "metadata": {},
   "outputs": [
    {
     "data": {
      "text/html": [
       "<span style='color:green'>✅ or_ F T: OK</span>"
      ]
     },
     "metadata": {},
     "output_type": "display_data"
    }
   ],
   "source": [
    "Test(\"or_ F T\",\n",
    "     or_(false(), true())\n",
    "     ).apply(ctx()).equals(True)"
   ]
  },
  {
   "cell_type": "code",
   "execution_count": 25,
   "metadata": {},
   "outputs": [
    {
     "data": {
      "text/html": [
       "<span style='color:green'>✅ or_ T F: OK</span>"
      ]
     },
     "metadata": {},
     "output_type": "display_data"
    }
   ],
   "source": [
    "Test(\"or_ T F\",\n",
    "     or_(true(), false())\n",
    "     ).apply(ctx()).equals(True)"
   ]
  },
  {
   "cell_type": "code",
   "execution_count": 26,
   "metadata": {},
   "outputs": [
    {
     "data": {
      "text/html": [
       "<span style='color:green'>✅ or_ T T: OK</span>"
      ]
     },
     "metadata": {},
     "output_type": "display_data"
    }
   ],
   "source": [
    "Test(\"or_ T T\",\n",
    "     or_(true(), true())\n",
    "     ).apply(ctx()).equals(True)"
   ]
  },
  {
   "cell_type": "code",
   "execution_count": 27,
   "metadata": {},
   "outputs": [
    {
     "data": {
      "text/html": [
       "<span style='color:green'>✅ and_ 0: OK</span>"
      ]
     },
     "metadata": {},
     "output_type": "display_data"
    }
   ],
   "source": [
    "Test(\"and_ 0\",\n",
    "    and_()\n",
    ").apply(ctx()).equals(True)"
   ]
  },
  {
   "cell_type": "code",
   "execution_count": 28,
   "metadata": {},
   "outputs": [
    {
     "data": {
      "text/html": [
       "<span style='color:green'>✅ and_ T: OK</span>"
      ]
     },
     "metadata": {},
     "output_type": "display_data"
    }
   ],
   "source": [
    "Test(\"and_ T\",\n",
    "     and_(true())\n",
    "     ).apply(ctx()).equals(True)"
   ]
  },
  {
   "cell_type": "code",
   "execution_count": 29,
   "metadata": {},
   "outputs": [
    {
     "data": {
      "text/html": [
       "<span style='color:green'>✅ and_ F: OK</span>"
      ]
     },
     "metadata": {},
     "output_type": "display_data"
    }
   ],
   "source": [
    "Test(\"and_ F\",\n",
    "     and_(false())\n",
    "     ).apply(ctx()).equals(False)"
   ]
  },
  {
   "cell_type": "code",
   "execution_count": 30,
   "metadata": {},
   "outputs": [
    {
     "data": {
      "text/html": [
       "<span style='color:green'>✅ and_ T F: OK</span>"
      ]
     },
     "metadata": {},
     "output_type": "display_data"
    }
   ],
   "source": [
    "Test(\"and_ T F\",\n",
    "    and_(true(), false())\n",
    "    ).apply(ctx()).equals(False)"
   ]
  },
  {
   "cell_type": "code",
   "execution_count": 31,
   "metadata": {},
   "outputs": [
    {
     "data": {
      "text/html": [
       "<span style='color:green'>✅ and_ F T: OK</span>"
      ]
     },
     "metadata": {},
     "output_type": "display_data"
    }
   ],
   "source": [
    "Test(\"and_ F T\",\n",
    "     and_(false(), true())\n",
    "     ).apply(ctx()).equals(False)"
   ]
  },
  {
   "cell_type": "code",
   "execution_count": 32,
   "metadata": {},
   "outputs": [
    {
     "data": {
      "text/html": [
       "<span style='color:green'>✅ and_ T T: OK</span>"
      ]
     },
     "metadata": {},
     "output_type": "display_data"
    }
   ],
   "source": [
    "Test(\"and_ T T\",\n",
    "    and_(true(), true())\n",
    "    ).apply(ctx()).equals(True)"
   ]
  },
  {
   "cell_type": "code",
   "execution_count": 33,
   "metadata": {},
   "outputs": [
    {
     "data": {
      "text/html": [
       "<span style='color:green'>✅ and_ F F: OK</span>"
      ]
     },
     "metadata": {},
     "output_type": "display_data"
    }
   ],
   "source": [
    "Test(\"and_ F F\",\n",
    "     and_(false(), false())\n",
    "     ).apply(ctx()).equals(False)"
   ]
  },
  {
   "attachments": {},
   "cell_type": "markdown",
   "metadata": {},
   "source": [
    "#### Variable Tests"
   ]
  },
  {
   "cell_type": "code",
   "execution_count": 34,
   "metadata": {},
   "outputs": [
    {
     "data": {
      "text/html": [
       "<span style='color:green'>✅ Close vars: OK</span>"
      ]
     },
     "metadata": {},
     "output_type": "display_data"
    }
   ],
   "source": [
    "@stepfn\n",
    "def f0(data: ctx):\n",
    "    with variables(ctx) as vars:\n",
    "        return vars\n",
    "Test('Close vars',\n",
    "    f0()\n",
    ").apply(ctx()).call(lambda c: c.closed).is_true()"
   ]
  },
  {
   "cell_type": "code",
   "execution_count": 35,
   "metadata": {},
   "outputs": [
    {
     "data": {
      "text/html": [
       "<span style='color:green'>✅ Clear vars: OK</span>"
      ]
     },
     "metadata": {},
     "output_type": "display_data"
    }
   ],
   "source": [
    "@stepfn\n",
    "def f1(data: ctx):\n",
    "    with variables(ctx) as vars:\n",
    "        #v1, v2 = vars.variables('v1', 'v2')\n",
    "        #a1, a2 = vars.attributs('value')\n",
    "        return vars\n",
    "Test('Clear vars',\n",
    "     f1()\n",
    "     ).apply(ctx()).call(lambda c: len(c.variables)).equals(0)"
   ]
  },
  {
   "cell_type": "code",
   "execution_count": 36,
   "metadata": {},
   "outputs": [
    {
     "data": {
      "text/html": [
       "<span style='color:green'>✅ Check vars lifecycle: OK</span>"
      ]
     },
     "metadata": {},
     "output_type": "display_data"
    }
   ],
   "source": [
    "@stepfn\n",
    "def f2(data: ctx):\n",
    "    c = VariableContext(data)\n",
    "    v = c.variable('v')\n",
    "    a = c.attribute('a')\n",
    "    c.close()\n",
    "Test(\"Check vars lifecycle\",\n",
    "    f2()\n",
    "    ).apply(ctx()).equals(None)"
   ]
  },
  {
   "cell_type": "code",
   "execution_count": 37,
   "metadata": {},
   "outputs": [
    {
     "data": {
      "text/html": [
       "<span style='color:green'>✅ Check vars recorded: OK</span>"
      ]
     },
     "metadata": {},
     "output_type": "display_data"
    }
   ],
   "source": [
    "@stepfn\n",
    "def f3(data: ctx):\n",
    "    with variables(data) as vars:\n",
    "        v1, v2 = vars.variable('v1', 'v2')\n",
    "        a1, a2 = vars.attribute('a1', 'a2')\n",
    "        return list(vars.variables.keys())\n",
    "\n",
    "Test('Check vars recorded',\n",
    "     f3()\n",
    "     ).apply(ctx()).equals(['v1', 'v2', 'a1', 'a2'])\n"
   ]
  },
  {
   "cell_type": "code",
   "execution_count": 38,
   "metadata": {},
   "outputs": [
    {
     "data": {
      "text/html": [
       "<span style='color:green'>✅ Attribute.value: OK</span>"
      ]
     },
     "metadata": {},
     "output_type": "display_data"
    }
   ],
   "source": [
    "@stepfn\n",
    "def f4(data: ctx):\n",
    "    with variables(data) as vars:\n",
    "        (a) = vars.attribute('value')\n",
    "        return a.value\n",
    "Test(\"Attribute.value\",\n",
    "    f4()\n",
    ").apply(ctx(55)).equals(55)"
   ]
  },
  {
   "attachments": {},
   "cell_type": "markdown",
   "metadata": {},
   "source": [
    "### Test Summary"
   ]
  },
  {
   "cell_type": "code",
   "execution_count": 39,
   "metadata": {},
   "outputs": [
    {
     "data": {
      "text/html": [
       "<span style='color:green'>✅ Test Test: OK</span><br><span style='color:green'>✅ Test Negate Test: OK</span><br><span style='color:green'>✅ @stepfn step takes a single argument: OK</span><br><span style='color:green'>✅ @conditionfn condition takes a single argument: OK</span><br><span style='color:green'>✅ @stepfn capture args: OK</span><br><span style='color:green'>✅ @conditionfn capture args (true): OK</span><br><span style='color:green'>✅ @conditionfn capture args (false): OK</span><br><span style='color:green'>✅ Simple pipeline: OK</span><br><span style='color:green'>✅ if_ True: OK</span><br><span style='color:green'>✅ if_ False: OK</span><br><span style='color:green'>✅ if_ True else: OK</span><br><span style='color:green'>✅ if_ False else: OK</span><br><span style='color:green'>✅ not_ True: OK</span><br><span style='color:green'>✅ not_ False: OK</span><br><span style='color:green'>✅ or_ 0: OK</span><br><span style='color:green'>✅ or_ T: OK</span><br><span style='color:green'>✅ or_ F: OK</span><br><span style='color:green'>✅ or_ F T: OK</span><br><span style='color:green'>✅ or_ T F: OK</span><br><span style='color:green'>✅ or_ T T: OK</span><br><span style='color:green'>✅ and_ 0: OK</span><br><span style='color:green'>✅ and_ T: OK</span><br><span style='color:green'>✅ and_ F: OK</span><br><span style='color:green'>✅ and_ T F: OK</span><br><span style='color:green'>✅ and_ F T: OK</span><br><span style='color:green'>✅ and_ T T: OK</span><br><span style='color:green'>✅ and_ F F: OK</span><br><span style='color:green'>✅ Close vars: OK</span><br><span style='color:green'>✅ Clear vars: OK</span><br><span style='color:green'>✅ Check vars lifecycle: OK</span><br><span style='color:green'>✅ Check vars recorded: OK</span><br><span style='color:green'>✅ Attribute.value: OK</span><br>32 successes, 0 failures, 0 errors"
      ]
     },
     "metadata": {},
     "output_type": "display_data"
    }
   ],
   "source": [
    "REPORTER.report()"
   ]
  },
  {
   "cell_type": "code",
   "execution_count": null,
   "metadata": {},
   "outputs": [],
   "source": []
  }
 ],
 "metadata": {
  "kernelspec": {
   "display_name": "Python 3 (ipykernel)",
   "language": "python",
   "name": "python3"
  },
  "language_info": {
   "codemirror_mode": {
    "name": "ipython",
    "version": 3
   },
   "file_extension": ".py",
   "mimetype": "text/x-python",
   "name": "python",
   "nbconvert_exporter": "python",
   "pygments_lexer": "ipython3",
   "version": "3.10.4"
  },
  "vscode": {
   "interpreter": {
    "hash": "3ad933181bd8a04b432d3370b9dc3b0662ad032c4dfaa4e4f1596c548f763858"
   }
  }
 },
 "nbformat": 4,
 "nbformat_minor": 4
}
