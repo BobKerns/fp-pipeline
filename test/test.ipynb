{
 "cells": [
  {
   "cell_type": "code",
   "execution_count": 2,
   "metadata": {},
   "outputs": [],
   "source": [
    "import sys, os\n",
    "sys.path.insert(1,os.path.abspath('../src'))"
   ]
  },
  {
   "attachments": {},
   "cell_type": "markdown",
   "metadata": {},
   "source": [
    "Import our code under test."
   ]
  },
  {
   "cell_type": "code",
   "execution_count": 3,
   "metadata": {},
   "outputs": [],
   "source": [
    "from fpipeline import pipeline, stepfn, conditionfn, variables"
   ]
  },
  {
   "attachments": {},
   "cell_type": "markdown",
   "metadata": {},
   "source": [
    "## Test Framework\n",
    "    "
   ]
  },
  {
   "cell_type": "code",
   "execution_count": 4,
   "metadata": {
    "tags": [
     "hide-input"
    ]
   },
   "outputs": [],
   "source": [
    "from dataclasses import dataclass, field\n",
    "from IPython.display import display\n",
    "from typing import Callable\n",
    "\n",
    "@dataclass\n",
    "class Test:\n",
    "    name: str\n",
    "    result: any\n",
    "    negated: bool = False\n",
    "    def _success(self):\n",
    "        display({\"text/html\": f\"✅: {self.name}\"}, raw=True)\n",
    "    def _failure(self):\n",
    "        display(\n",
    "            {\"text/html\": f\"<span style='color:red'>❌: {self.name}</span>\"}, raw=True)\n",
    "    def _check(self, pred: Callable[[any, any], bool], value: any):\n",
    "        if bool(pred(self.result, value)) ^ self.negated:\n",
    "            self._success();\n",
    "        else:\n",
    "            self._failure()\n",
    "    def equals(self, value: any):\n",
    "        self._check(lambda a, b: a == b, value)\n",
    "    def is_same(self, value: any):\n",
    "        self._check(lambda a, b: a is b, value)\n",
    "    def is_true(self):\n",
    "        self._check(lambda a, b: not not a, True)\n",
    "    def is_false(self):\n",
    "        self._check(lambda a, b: not a, False)\n",
    "    @property\n",
    "    def negate(self):\n",
    "        return Test(self.name, self.result, negated=not self.negated)\n",
    "    @property\n",
    "    def exec(self):\n",
    "        try:\n",
    "            return Test(self.result())\n",
    "        except Exception as ex:\n",
    "            return Test(ex)\n",
    "    def is_exception(self):\n",
    "        self._check(isinstance, Exception)\n",
    "    def isinstance(self, cls):\n",
    "        self._check(isinstance, cls)"
   ]
  },
  {
   "cell_type": "code",
   "execution_count": 5,
   "metadata": {
    "tags": [
     "hide-input"
    ]
   },
   "outputs": [
    {
     "data": {
      "text/html": [
       "✅: Test Test"
      ]
     },
     "metadata": {},
     "output_type": "display_data"
    }
   ],
   "source": [
    "Test(\"Test Test\", None).equals(None)"
   ]
  },
  {
   "cell_type": "code",
   "execution_count": 6,
   "metadata": {},
   "outputs": [
    {
     "data": {
      "text/html": [
       "✅: Test Negate Test"
      ]
     },
     "metadata": {},
     "output_type": "display_data"
    }
   ],
   "source": [
    "Test(\"Test Negate Test\", None).negate.equals(False)"
   ]
  },
  {
   "attachments": {},
   "cell_type": "markdown",
   "metadata": {},
   "source": [
    "## Test Data Setup"
   ]
  },
  {
   "cell_type": "code",
   "execution_count": 7,
   "metadata": {},
   "outputs": [],
   "source": [
    "@dataclass\n",
    "class ctx:\n",
    "    value: any = None\n",
    "    trace: list[tuple] = field(default_factory=list)\n",
    "    def __post_init__(self):\n",
    "        trace = list()\n",
    "\n",
    "@stepfn\n",
    "def tstep(data: ctx, *args, **kwargs):\n",
    "    d = (*args, {**kwargs})\n",
    "    data.trace.append(d)\n",
    "    return data\n",
    "\n",
    "@conditionfn\n",
    "def has_value(data: ctx, value):\n",
    "    return data.value == value"
   ]
  },
  {
   "cell_type": "code",
   "execution_count": 8,
   "metadata": {},
   "outputs": [
    {
     "data": {
      "text/html": [
       "✅: @stepfn step should take a single argument"
      ]
     },
     "metadata": {},
     "output_type": "display_data"
    }
   ],
   "source": [
    "Test(\"@stepfn step should take a single argument\",\n",
    "    tstep(7, 8).__code__.co_argcount\n",
    ").equals(1)"
   ]
  },
  {
   "cell_type": "code",
   "execution_count": 9,
   "metadata": {},
   "outputs": [
    {
     "data": {
      "text/html": [
       "✅: @conditionfn condition should take a single argument"
      ]
     },
     "metadata": {},
     "output_type": "display_data"
    }
   ],
   "source": [
    "Test(\"@conditionfn condition should take a single argument\",\n",
    "    has_value(7, 8).__code__.co_argcount\n",
    ").equals(1)"
   ]
  },
  {
   "cell_type": "code",
   "execution_count": 10,
   "metadata": {},
   "outputs": [
    {
     "data": {
      "text/html": [
       "✅: @stepfn capture args"
      ]
     },
     "metadata": {},
     "output_type": "display_data"
    }
   ],
   "source": [
    "Test(\"@stepfn capture args\",\n",
    "    tstep(7, 5)(ctx()).trace\n",
    ").equals([(7, 5, {})])"
   ]
  },
  {
   "cell_type": "code",
   "execution_count": 14,
   "metadata": {},
   "outputs": [
    {
     "data": {
      "text/html": [
       "✅: @conditionfn capture args (true)"
      ]
     },
     "metadata": {},
     "output_type": "display_data"
    }
   ],
   "source": [
    "Test(\"@conditionfn capture args (true)\",\n",
    "    has_value(7)(ctx(7))\n",
    ").is_true()"
   ]
  },
  {
   "cell_type": "code",
   "execution_count": 13,
   "metadata": {},
   "outputs": [
    {
     "data": {
      "text/html": [
       "✅: @conditionfn capture args (false)"
      ]
     },
     "metadata": {},
     "output_type": "display_data"
    }
   ],
   "source": [
    "Test(\"@conditionfn capture args (false)\",\n",
    "    has_value(7)(ctx())\n",
    ").is_false()"
   ]
  },
  {
   "cell_type": "code",
   "execution_count": null,
   "metadata": {},
   "outputs": [
    {
     "data": {
      "text/html": [
       "✅: Simple pipeline"
      ]
     },
     "metadata": {},
     "output_type": "display_data"
    }
   ],
   "source": [
    "Test(\"Simple pipeline\",\n",
    "    pipeline(tstep(7), tstep(78))(ctx()).trace\n",
    " ).equals([(7, {}), (78, {})])"
   ]
  },
  {
   "cell_type": "code",
   "execution_count": null,
   "metadata": {},
   "outputs": [
    {
     "data": {
      "text/html": [
       "✅: With no variables"
      ]
     },
     "metadata": {},
     "output_type": "display_data"
    }
   ],
   "source": [
    "def f1():\n",
    "    with variables(ctx()) as vars:\n",
    "        return vars.variables\n",
    "Test(\"With no variables\",\n",
    "    f1()\n",
    ").equals({})"
   ]
  }
 ],
 "metadata": {
  "kernelspec": {
   "display_name": "Python 3 (ipykernel)",
   "language": "python",
   "name": "python3"
  },
  "language_info": {
   "codemirror_mode": {
    "name": "ipython",
    "version": 3
   },
   "file_extension": ".py",
   "mimetype": "text/x-python",
   "name": "python",
   "nbconvert_exporter": "python",
   "pygments_lexer": "ipython3",
   "version": "3.10.4"
  },
  "vscode": {
   "interpreter": {
    "hash": "3ad933181bd8a04b432d3370b9dc3b0662ad032c4dfaa4e4f1596c548f763858"
   }
  }
 },
 "nbformat": 4,
 "nbformat_minor": 4
}
