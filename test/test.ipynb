{
 "cells": [
  {
   "cell_type": "code",
   "execution_count": 1,
   "metadata": {},
   "outputs": [],
   "source": [
    "from dataclasses import dataclass, field\n",
    "import sys, os\n",
    "sys.path.insert(1,os.path.abspath('../src'))"
   ]
  },
  {
   "attachments": {},
   "cell_type": "markdown",
   "metadata": {},
   "source": [
    "Import our code under test."
   ]
  },
  {
   "cell_type": "code",
   "execution_count": 2,
   "metadata": {},
   "outputs": [],
   "source": [
    "from fpipeline import pipeline, stepfn, conditionfn, variables"
   ]
  },
  {
   "attachments": {},
   "cell_type": "markdown",
   "metadata": {},
   "source": [
    "Load our Test framework\n",
    "    "
   ]
  },
  {
   "cell_type": "code",
   "execution_count": 3,
   "metadata": {
    "tags": [
     "hide-input"
    ]
   },
   "outputs": [],
   "source": [
    "from tester import Test, set_test_reporter\n",
    "from notebook_reporter import NotebookTestReporter\n",
    "\n",
    "set_test_reporter(NotebookTestReporter())"
   ]
  },
  {
   "cell_type": "code",
   "execution_count": null,
   "metadata": {},
   "outputs": [],
   "source": []
  },
  {
   "cell_type": "markdown",
   "metadata": {},
   "source": [
    "Test our Test framework"
   ]
  },
  {
   "cell_type": "code",
   "execution_count": 4,
   "metadata": {
    "tags": [
     "hide-input"
    ]
   },
   "outputs": [
    {
     "data": {
      "text/html": [
       "<span style='color:green'>✅: Test Test</span>"
      ]
     },
     "metadata": {},
     "output_type": "display_data"
    }
   ],
   "source": [
    "Test(\"Test Test\", None).equals(None)"
   ]
  },
  {
   "cell_type": "code",
   "execution_count": 5,
   "metadata": {},
   "outputs": [
    {
     "data": {
      "text/html": [
       "<span style='color:green'>✅: Test Negate Test</span>"
      ]
     },
     "metadata": {},
     "output_type": "display_data"
    }
   ],
   "source": [
    "Test(\"Test Negate Test\", None).negate.equals(False)"
   ]
  },
  {
   "attachments": {},
   "cell_type": "markdown",
   "metadata": {},
   "source": [
    "#### Test Data Setup"
   ]
  },
  {
   "cell_type": "code",
   "execution_count": 6,
   "metadata": {},
   "outputs": [],
   "source": [
    "@dataclass\n",
    "class ctx:\n",
    "    value: any = None\n",
    "    trace: list[tuple] = field(default_factory=list)\n",
    "    def __post_init__(self):\n",
    "        trace = list()\n",
    "\n",
    "@stepfn\n",
    "def tstep(data: ctx, *args, **kwargs):\n",
    "    d = (*args, {**kwargs})\n",
    "    data.trace.append(d)\n",
    "    return data\n",
    "\n",
    "@conditionfn\n",
    "def has_value(data: ctx, value):\n",
    "    return data.value == value"
   ]
  },
  {
   "attachments": {},
   "cell_type": "markdown",
   "metadata": {},
   "source": [
    "#### Test Cases"
   ]
  },
  {
   "cell_type": "code",
   "execution_count": 14,
   "metadata": {},
   "outputs": [
    {
     "data": {
      "text/html": [
       "<span style='color:green'>✅: @stepfn step takes a single argument</span>"
      ]
     },
     "metadata": {},
     "output_type": "display_data"
    }
   ],
   "source": [
    "Test(\"@stepfn step takes a single argument\",\n",
    "    tstep(7, 8).__code__.co_argcount\n",
    ").equals(1)"
   ]
  },
  {
   "cell_type": "code",
   "execution_count": 15,
   "metadata": {},
   "outputs": [
    {
     "data": {
      "text/html": [
       "<span style='color:green'>✅: @conditionfn condition takes a single argument</span>"
      ]
     },
     "metadata": {},
     "output_type": "display_data"
    }
   ],
   "source": [
    "Test(\"@conditionfn condition takes a single argument\",\n",
    "    has_value(7, 8).__code__.co_argcount\n",
    ").equals(1)"
   ]
  },
  {
   "cell_type": "code",
   "execution_count": 9,
   "metadata": {},
   "outputs": [
    {
     "data": {
      "text/html": [
       "<span style='color:green'>✅: @stepfn capture args</span>"
      ]
     },
     "metadata": {},
     "output_type": "display_data"
    }
   ],
   "source": [
    "Test(\"@stepfn capture args\",\n",
    "    tstep(7, 5)(ctx()).trace\n",
    ").equals([(7, 5, {})])"
   ]
  },
  {
   "cell_type": "code",
   "execution_count": 10,
   "metadata": {},
   "outputs": [
    {
     "data": {
      "text/html": [
       "<span style='color:green'>✅: @conditionfn capture args (true)</span>"
      ]
     },
     "metadata": {},
     "output_type": "display_data"
    }
   ],
   "source": [
    "Test(\"@conditionfn capture args (true)\",\n",
    "    has_value(7)(ctx(7))\n",
    ").is_true()"
   ]
  },
  {
   "cell_type": "code",
   "execution_count": 11,
   "metadata": {},
   "outputs": [
    {
     "data": {
      "text/html": [
       "<span style='color:green'>✅: @conditionfn capture args (false)</span>"
      ]
     },
     "metadata": {},
     "output_type": "display_data"
    }
   ],
   "source": [
    "Test(\"@conditionfn capture args (false)\",\n",
    "    has_value(7)(ctx())\n",
    ").is_false()"
   ]
  },
  {
   "cell_type": "code",
   "execution_count": 12,
   "metadata": {},
   "outputs": [
    {
     "data": {
      "text/html": [
       "<span style='color:green'>✅: Simple pipeline</span>"
      ]
     },
     "metadata": {},
     "output_type": "display_data"
    }
   ],
   "source": [
    "Test(\"Simple pipeline\",\n",
    "    pipeline(tstep(7), tstep(78))(ctx()).trace\n",
    " ).equals([(7, {}), (78, {})])"
   ]
  },
  {
   "cell_type": "code",
   "execution_count": 13,
   "metadata": {},
   "outputs": [
    {
     "data": {
      "text/html": [
       "<span style='color:green'>✅: With no variables</span>"
      ]
     },
     "metadata": {},
     "output_type": "display_data"
    }
   ],
   "source": [
    "def f1():\n",
    "    with variables(ctx()) as vars:\n",
    "        return vars.variables\n",
    "Test(\"With no variables\",\n",
    "    f1()\n",
    ").equals({})"
   ]
  }
 ],
 "metadata": {
  "kernelspec": {
   "display_name": "Python 3 (ipykernel)",
   "language": "python",
   "name": "python3"
  },
  "language_info": {
   "codemirror_mode": {
    "name": "ipython",
    "version": 3
   },
   "file_extension": ".py",
   "mimetype": "text/x-python",
   "name": "python",
   "nbconvert_exporter": "python",
   "pygments_lexer": "ipython3",
   "version": "3.10.4"
  },
  "vscode": {
   "interpreter": {
    "hash": "3ad933181bd8a04b432d3370b9dc3b0662ad032c4dfaa4e4f1596c548f763858"
   }
  }
 },
 "nbformat": 4,
 "nbformat_minor": 4
}
